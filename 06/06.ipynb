{
 "cells": [
  {
   "cell_type": "code",
   "execution_count": null,
   "metadata": {},
   "outputs": [],
   "source": [
    "import numpy as np"
   ]
  },
  {
   "cell_type": "code",
   "execution_count": null,
   "metadata": {},
   "outputs": [],
   "source": [
    "#e.g.\n",
    "fish = [3,4,3,1,2]\n",
    "days = 80\n",
    "for day in range(days):\n",
    "    for idx, f in enumerate(fish):\n",
    "        if fish[idx] ==0:\n",
    "            fish[idx] = 7\n",
    "            fish.append(9)\n",
    "        fish[idx]-=1\n",
    "    #print(fish)\n",
    "print(f\"After {days} days there are {len(fish)} fish\")"
   ]
  },
  {
   "cell_type": "code",
   "execution_count": null,
   "metadata": {},
   "outputs": [],
   "source": [
    "# pt1\n",
    "fish = [5,1,1,5,4,2,1,2,1,2,2,1,1,1,4,2,2,4,1,1,1,1,1,4,1,1,1,1,1,5,3,1,4,1,1,1,1,1,4,1,5,1,1,1,4,1,2,2,3,1,5,1,1,5,1,1,5,4,1,1,1,4,3,1,1,1,3,1,5,5,1,1,1,1,5,3,2,1,2,3,1,5,1,1,4,1,1,2,1,5,1,1,1,1,5,4,5,1,3,1,3,3,5,5,1,3,1,5,3,1,1,4,2,3,3,1,2,4,1,1,1,1,1,1,1,2,1,1,4,1,3,2,5,2,1,1,1,4,2,1,1,1,4,2,4,1,1,1,1,4,1,3,5,5,1,2,1,3,1,1,4,1,1,1,1,2,1,1,4,2,3,1,1,1,1,1,1,1,4,5,1,1,3,1,1,2,1,1,1,5,1,1,1,1,1,3,2,1,2,4,5,1,5,4,1,1,3,1,1,5,5,1,3,1,1,1,1,4,4,2,1,2,1,1,5,1,1,4,5,1,1,1,1,1,1,1,1,1,1,3,1,1,1,1,1,4,2,1,1,1,2,5,1,4,1,1,1,4,1,1,5,4,4,3,1,1,4,5,1,1,3,5,3,1,2,5,3,4,1,3,5,4,1,3,1,5,1,4,1,1,4,2,1,1,1,3,2,1,1,4]\n",
    "print(fish)\n",
    "days = 80\n",
    "for day in range(days):\n",
    "    for idx, f in enumerate(fish):\n",
    "        if fish[idx] ==0:\n",
    "            fish[idx] = 7\n",
    "            fish.append(9)\n",
    "        fish[idx]-=1\n",
    "    #print(fish)\n",
    "print(f\"After {days} days there are {len(fish)} fish\")"
   ]
  },
  {
   "cell_type": "code",
   "execution_count": null,
   "metadata": {},
   "outputs": [],
   "source": [
    "# I think this is going to take a very long time to finish\n",
    "# instead count the number with a given value and then iterate over that list of only 8 elements\n",
    "days = 18\n",
    "compact_fish = np.zeros((days+2,9), dtype = int)\n",
    "\n",
    "fish = [3,4,3,1,2]\n",
    "for n in range(9):\n",
    "    compact_fish[0][n] = fish.count(n)\n",
    "    \n",
    "for day in range(days+1):\n",
    "    for idx, n in enumerate(compact_fish[day]):\n",
    "        compact_fish[day+1][idx-1] = compact_fish[day][idx]\n",
    "        compact_fish[day+1][6] = compact_fish[day+1][6] +compact_fish[day][0]\n",
    "        #print(compact_fish[day][0])\n",
    "    print(compact_fish[day])\n",
    "    print(compact_fish[day:day+1].sum())"
   ]
  },
  {
   "cell_type": "code",
   "execution_count": null,
   "metadata": {},
   "outputs": [],
   "source": [
    "# I think this is going to take a very long time to finish\n",
    "# instead count the number with a given value and then iterate over that list of only 8 elements\n",
    "\n",
    "compact_fish = np.zeros((2,9), dtype = int)\n",
    "print(compact_fish)\n",
    "\n",
    "\n",
    "fish = [5,1,1,5,4,2,1,2,1,2,2,1,1,1,4,2,2,4,1,1,1,1,1,4,1,1,1,1,1,5,3,1,4,1,1,1,1,1,4,1,5,1,1,1,4,1,2,2,3,1,5,1,1,5,1,1,5,4,1,1,1,4,3,1,1,1,3,1,5,5,1,1,1,1,5,3,2,1,2,3,1,5,1,1,4,1,1,2,1,5,1,1,1,1,5,4,5,1,3,1,3,3,5,5,1,3,1,5,3,1,1,4,2,3,3,1,2,4,1,1,1,1,1,1,1,2,1,1,4,1,3,2,5,2,1,1,1,4,2,1,1,1,4,2,4,1,1,1,1,4,1,3,5,5,1,2,1,3,1,1,4,1,1,1,1,2,1,1,4,2,3,1,1,1,1,1,1,1,4,5,1,1,3,1,1,2,1,1,1,5,1,1,1,1,1,3,2,1,2,4,5,1,5,4,1,1,3,1,1,5,5,1,3,1,1,1,1,4,4,2,1,2,1,1,5,1,1,4,5,1,1,1,1,1,1,1,1,1,1,3,1,1,1,1,1,4,2,1,1,1,2,5,1,4,1,1,1,4,1,1,5,4,4,3,1,1,4,5,1,1,3,5,3,1,2,5,3,4,1,3,5,4,1,3,1,5,1,4,1,1,4,2,1,1,1,3,2,1,1,4]\n",
    "for n in range(9):\n",
    "    compact_fish[0][n] = fish.count(n)\n",
    "print(compact_fish)\n",
    "\n",
    "days = 80\n",
    "for day in range(days):\n",
    "    for n in enumerate(compact_fish):\n",
    "        compact_fish[day,n] = compact_fish[day-1,n-1]\n",
    "        \n",
    "        if fish[idx] ==0:\n",
    "            fish[idx] = 7\n",
    "            fish.append(9)\n",
    "        fish[idx]-=1\n",
    "    #print(fish)\n",
    "print(f\"After {days} days there are {len(fish)} fish\")\n"
   ]
  }
 ],
 "metadata": {
  "kernelspec": {
   "display_name": "Python 3 (ipykernel)",
   "language": "python",
   "name": "python3"
  },
  "language_info": {
   "codemirror_mode": {
    "name": "ipython",
    "version": 3
   },
   "file_extension": ".py",
   "mimetype": "text/x-python",
   "name": "python",
   "nbconvert_exporter": "python",
   "pygments_lexer": "ipython3",
   "version": "3.9.7"
  }
 },
 "nbformat": 4,
 "nbformat_minor": 2
}
