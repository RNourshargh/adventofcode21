{
 "cells": [
  {
   "cell_type": "code",
   "execution_count": null,
   "id": "3897c583",
   "metadata": {},
   "outputs": [],
   "source": [
    "import numpy as np"
   ]
  },
  {
   "cell_type": "code",
   "execution_count": null,
   "id": "5475850b",
   "metadata": {},
   "outputs": [],
   "source": [
    "# pt1 eg\n",
    "file = \"eg.txt\"\n",
    "crabs = np.loadtxt(file, dtype=int, delimiter=\",\")\n",
    "print(crabs)\n",
    "\n",
    "centre = range(crabs.max())\n",
    "fuel = np.zeros((crabs.max()), dtype=int)\n",
    "for p in centre:\n",
    "    d = np.abs((crabs - p))\n",
    "    print(np.abs((crabs - p)))\n",
    "    fuel[p] = d.sum()\n",
    "print(f\"minimum fuel is {fuel.min()} at location {fuel.argmin()}.\")"
   ]
  },
  {
   "cell_type": "code",
   "execution_count": null,
   "id": "1bdab9ab",
   "metadata": {},
   "outputs": [],
   "source": [
    "# pt1\n",
    "file = \"input.txt\"\n",
    "crabs = np.loadtxt(file, dtype=int, delimiter=\",\")\n",
    "centre = range(crabs.max())\n",
    "fuel = np.zeros((crabs.max()), dtype=int)\n",
    "for p in centre:\n",
    "    d = np.abs((crabs - p))\n",
    "    fuel[p] = d.sum()\n",
    "print(f\"minimum fuel is {fuel.min()} at location {fuel.argmin()}.\")"
   ]
  },
  {
   "cell_type": "code",
   "execution_count": null,
   "id": "2529c44a",
   "metadata": {},
   "outputs": [],
   "source": [
    "def sum_arith(n, a=0, d=1):\n",
    "    return n / 2 * (2 * a + d * (n - 1))"
   ]
  },
  {
   "cell_type": "code",
   "execution_count": null,
   "id": "af31689f",
   "metadata": {},
   "outputs": [],
   "source": [
    "# pt 2 e.g.\n",
    "file = \"eg.txt\"\n",
    "crabs = np.loadtxt(file, dtype=int, delimiter=\",\")\n",
    "centre = range(crabs.max())\n",
    "fuel = np.zeros((crabs.max()), dtype=int)\n",
    "for p in centre:\n",
    "    d = np.abs((crabs - p))\n",
    "    cost = 0\n",
    "    for n in d:\n",
    "        cost += int(sum_arith(n + 1))\n",
    "    fuel[p] = cost\n",
    "# print(fuel)\n",
    "print(f\"minimum fuel is {fuel.min()} at location {fuel.argmin()}.\")"
   ]
  },
  {
   "cell_type": "code",
   "execution_count": null,
   "id": "0cbf1f23",
   "metadata": {},
   "outputs": [],
   "source": [
    "# pt 2 e.g.\n",
    "file = \"input.txt\"\n",
    "crabs = np.loadtxt(file, dtype=int, delimiter=\",\")\n",
    "centre = range(crabs.max())\n",
    "fuel = np.zeros((crabs.max()), dtype=int)\n",
    "for p in centre:\n",
    "    d = np.abs((crabs - p))\n",
    "    cost = 0\n",
    "    for n in d:\n",
    "        cost += int(sum_arith(n + 1))\n",
    "    fuel[p] = cost\n",
    "print(f\"minimum fuel is {fuel.min()} at location {fuel.argmin()}.\")"
   ]
  }
 ],
 "metadata": {
  "kernelspec": {
   "display_name": "Python 3 (ipykernel)",
   "language": "python",
   "name": "python3"
  },
  "language_info": {
   "codemirror_mode": {
    "name": "ipython",
    "version": 3
   },
   "file_extension": ".py",
   "mimetype": "text/x-python",
   "name": "python",
   "nbconvert_exporter": "python",
   "pygments_lexer": "ipython3",
   "version": "3.9.7"
  }
 },
 "nbformat": 4,
 "nbformat_minor": 5
}
