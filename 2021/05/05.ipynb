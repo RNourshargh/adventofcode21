{
 "cells": [
  {
   "cell_type": "code",
   "execution_count": null,
   "metadata": {},
   "outputs": [],
   "source": [
    "import numpy as np"
   ]
  },
  {
   "cell_type": "code",
   "execution_count": null,
   "metadata": {},
   "outputs": [],
   "source": [
    "def parse_file(file):\n",
    "    data = []\n",
    "\n",
    "    with open(file, \"r\") as f:\n",
    "        for line in f:\n",
    "            row = []\n",
    "            pairs = line.strip().split(\"->\")\n",
    "            for pair in pairs:\n",
    "                for x in pair.strip().split(\",\"):\n",
    "                    row.append(int(x))\n",
    "            data.append(row)\n",
    "    return data"
   ]
  },
  {
   "cell_type": "code",
   "execution_count": null,
   "metadata": {},
   "outputs": [],
   "source": [
    "def chart_vent(vent, sea):\n",
    "    delta_x = np.sign(vent[2] - vent[0])\n",
    "    delta_y = np.sign(vent[3] - vent[1])\n",
    "    while not (vent[0] == vent[2] and vent[1] == vent[3]):\n",
    "        sea[vent[0]][vent[1]] += 1\n",
    "        vent[0] += delta_x\n",
    "        vent[1] += delta_y\n",
    "    sea[vent[2]][vent[3]] += 1"
   ]
  },
  {
   "cell_type": "code",
   "execution_count": null,
   "metadata": {},
   "outputs": [],
   "source": [
    "file = \"eg.txt\"\n",
    "sea = np.zeros((10, 10), dtype=int)\n",
    "\n",
    "data = parse_file(file)\n",
    "for vent in data:\n",
    "    if vent[0] == vent[2] or vent[1] == vent[3]:\n",
    "        chart_vent(vent, sea)\n",
    "\n",
    "print(sea.transpose())\n",
    "print(np.count_nonzero(sea > 1))"
   ]
  },
  {
   "cell_type": "code",
   "execution_count": null,
   "metadata": {},
   "outputs": [],
   "source": [
    "# pt1\n",
    "file = \"input.txt\"\n",
    "sea = np.zeros((1000, 1000), dtype=int)\n",
    "\n",
    "data = parse_file(file)\n",
    "for vent in data:\n",
    "    if vent[0] == vent[2] or vent[1] == vent[3]:\n",
    "        chart_vent(vent, sea)\n",
    "\n",
    "print(np.count_nonzero(sea > 1))"
   ]
  },
  {
   "cell_type": "code",
   "execution_count": null,
   "metadata": {},
   "outputs": [],
   "source": [
    "# pt2\n",
    "file = \"eg.txt\"\n",
    "sea = np.zeros((10, 10), dtype=int)\n",
    "data = parse_file(file)\n",
    "\n",
    "for vent in data:\n",
    "    chart_vent(vent, sea)\n",
    "\n",
    "print(sea.transpose())\n",
    "print(np.count_nonzero(sea > 1))"
   ]
  },
  {
   "cell_type": "code",
   "execution_count": null,
   "metadata": {},
   "outputs": [],
   "source": [
    "# pt2\n",
    "file = \"input.txt\"\n",
    "sea = np.zeros((1000, 1000), dtype=int)\n",
    "\n",
    "data = parse_file(file)\n",
    "\n",
    "for vent in data:\n",
    "    chart_vent(vent, sea)\n",
    "\n",
    "print(np.count_nonzero(sea > 1))"
   ]
  }
 ],
 "metadata": {
  "kernelspec": {
   "display_name": "Python 3",
   "language": "python",
   "name": "python3"
  },
  "language_info": {
   "codemirror_mode": {
    "name": "ipython",
    "version": 3
   },
   "file_extension": ".py",
   "mimetype": "text/x-python",
   "name": "python",
   "nbconvert_exporter": "python",
   "pygments_lexer": "ipython3",
   "version": "3.7.3"
  }
 },
 "nbformat": 4,
 "nbformat_minor": 5
}
