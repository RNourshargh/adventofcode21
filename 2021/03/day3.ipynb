{
 "cells": [
  {
   "cell_type": "code",
   "execution_count": null,
   "id": "fe6ea383",
   "metadata": {},
   "outputs": [],
   "source": [
    "import numpy as np"
   ]
  },
  {
   "cell_type": "code",
   "execution_count": null,
   "id": "0309cbec",
   "metadata": {},
   "outputs": [],
   "source": [
    "rows = 0\n",
    "with open(\"eg.csv\", \"r\") as f:\n",
    "    for x in f:\n",
    "        elements = len(x)\n",
    "\n",
    "tally = [0] * elements\n",
    "\n",
    "with open(\"eg.csv\", \"r\") as f:\n",
    "    for x in f:\n",
    "        rows += 1\n",
    "        for idx, i in enumerate(x):\n",
    "            if i == \"1\":\n",
    "                tally[idx] += 1\n",
    "tally.pop()\n",
    "print(tally)\n",
    "print(rows)\n",
    "\n",
    "gamma = [0] * 5\n",
    "for idx, n in enumerate(tally):\n",
    "    if n > rows / 2:\n",
    "        gamma[idx] = 1\n",
    "print(gamma)"
   ]
  },
  {
   "cell_type": "code",
   "execution_count": null,
   "id": "a9732480",
   "metadata": {},
   "outputs": [],
   "source": [
    "rows = 0\n",
    "file = \"input.txt\"\n",
    "with open(file, \"r\") as f:\n",
    "    for x in f:\n",
    "        elements = len(x)\n",
    "\n",
    "tally = [0] * elements\n",
    "\n",
    "with open(file, \"r\") as f:\n",
    "    for x in f:\n",
    "        rows += 1\n",
    "        for idx, i in enumerate(x):\n",
    "            if i == \"1\":\n",
    "                tally[idx] += 1\n",
    "tally.pop()\n",
    "print(tally)\n",
    "\n",
    "gamma = [0] * len(tally)\n",
    "for idx, n in enumerate(tally):\n",
    "    if n > rows / 2:\n",
    "        gamma[idx] = 1\n",
    "print(gamma)\n",
    "\n",
    "num = 0\n",
    "for b in gamma:\n",
    "    num = 2 * num + b\n",
    "print(num)"
   ]
  },
  {
   "cell_type": "code",
   "execution_count": null,
   "id": "179f52cb",
   "metadata": {},
   "outputs": [],
   "source": [
    "rows = 1\n",
    "file = \"input.txt\"\n",
    "gamma = \"\"\n",
    "epsilon = \"\"\n",
    "with open(file, \"r\") as f:\n",
    "    first_line = f.readline()\n",
    "    l = len(first_line.strip())\n",
    "    tally = [0] * l\n",
    "    for x in f:\n",
    "        rows += 1\n",
    "        for idx, i in enumerate(x):\n",
    "            if i == \"1\":\n",
    "                tally[idx] += 1\n",
    "print(tally)\n",
    "for idx, n in enumerate(tally):\n",
    "    if n > rows / 2:\n",
    "        gamma += \"1\"\n",
    "    if n < rows / 2:\n",
    "        gamma += \"0\"\n",
    "for x in gamma:\n",
    "    epsilon += str(int(x, 2) ^ 1)\n",
    "print(gamma)\n",
    "print(epsilon)\n",
    "print(int(gamma, 2) * int(epsilon, 2))"
   ]
  },
  {
   "cell_type": "code",
   "execution_count": null,
   "id": "53298776",
   "metadata": {},
   "outputs": [],
   "source": []
  }
 ],
 "metadata": {
  "kernelspec": {
   "display_name": "Python 3 (ipykernel)",
   "language": "python",
   "name": "python3"
  },
  "language_info": {
   "codemirror_mode": {
    "name": "ipython",
    "version": 3
   },
   "file_extension": ".py",
   "mimetype": "text/x-python",
   "name": "python",
   "nbconvert_exporter": "python",
   "pygments_lexer": "ipython3",
   "version": "3.9.7"
  }
 },
 "nbformat": 4,
 "nbformat_minor": 5
}
