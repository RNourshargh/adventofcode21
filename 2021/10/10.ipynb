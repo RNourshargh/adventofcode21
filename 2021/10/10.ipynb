{
 "cells": [
  {
   "cell_type": "code",
   "execution_count": null,
   "id": "0e7207ab",
   "metadata": {},
   "outputs": [],
   "source": [
    "brakets = {\"[\": \"]\", \"(\": \")\", \"{\": \"}\", \"<\": \">\"}\n",
    "\n",
    "scores = {\n",
    "    \")\": 3,\n",
    "    \"]\": 57,\n",
    "    \"}\": 1197,\n",
    "    \">\": 25137,\n",
    "}\n",
    "\n",
    "auto_comp_scores = {\n",
    "    \")\": 1,\n",
    "    \"]\": 2,\n",
    "    \"}\": 3,\n",
    "    \">\": 4,\n",
    "}"
   ]
  },
  {
   "cell_type": "code",
   "execution_count": null,
   "id": "71345a6b",
   "metadata": {},
   "outputs": [],
   "source": [
    "def read_row(row):\n",
    "    lefts = []\n",
    "    corrupt_char = []\n",
    "    depth = -1\n",
    "    corrupt = False\n",
    "    for b in row:\n",
    "        if b in brakets.keys():\n",
    "            lefts.append(b)\n",
    "            depth += 1\n",
    "            lefts[depth] = b\n",
    "        elif b == brakets[lefts[depth]]:\n",
    "            depth -= 1\n",
    "        else:\n",
    "            corrupt_char = b\n",
    "            corrupt = True\n",
    "            break\n",
    "    return corrupt, corrupt_char"
   ]
  },
  {
   "cell_type": "code",
   "execution_count": null,
   "id": "185dd9d7",
   "metadata": {},
   "outputs": [],
   "source": [
    "def score_corrupts(corrupts):\n",
    "    score = 0\n",
    "    for b in corrupts:\n",
    "        score += scores[b]\n",
    "    return score"
   ]
  },
  {
   "cell_type": "code",
   "execution_count": null,
   "id": "e53c7b1e",
   "metadata": {},
   "outputs": [],
   "source": [
    "# pt1 e.g.\n",
    "file = \"eg.txt\"\n",
    "corrupts = []\n",
    "with open(file) as f:\n",
    "    for x in f:\n",
    "        error, corrupt_char = read_row(x.strip())\n",
    "        if error:\n",
    "            corrupts.append(corrupt_char)\n",
    "score_corrupts(corrupts)\n",
    "\n",
    "# pt1 input\n",
    "file = \"input.txt\"\n",
    "corrupts = []\n",
    "with open(file) as f:\n",
    "    for x in f:\n",
    "        error, corrupt_char = read_row(x.strip())\n",
    "        if error:\n",
    "            corrupts.append(corrupt_char)\n",
    "score_corrupts(corrupts)"
   ]
  },
  {
   "cell_type": "code",
   "execution_count": null,
   "id": "a3bf6819",
   "metadata": {},
   "outputs": [],
   "source": [
    "def flip_brakets(lefts):\n",
    "    rights = []\n",
    "    for b in lefts:\n",
    "        rights.append(brakets[b])\n",
    "    rights.reverse()\n",
    "    return rights"
   ]
  },
  {
   "cell_type": "code",
   "execution_count": null,
   "id": "f8951ac0",
   "metadata": {},
   "outputs": [],
   "source": [
    "print(flip_brakets((\"{\", \"(\")))"
   ]
  },
  {
   "cell_type": "code",
   "execution_count": null,
   "id": "24f5438a",
   "metadata": {},
   "outputs": [],
   "source": [
    "def complete_rows(row):\n",
    "    lefts = []\n",
    "    depth = -1\n",
    "    corrupt = False\n",
    "    for b in row:\n",
    "        if b in brakets.keys():\n",
    "            lefts.append(b)\n",
    "            depth += 1\n",
    "            lefts[depth] = b\n",
    "        elif b == brakets[lefts[depth]]:\n",
    "            depth -= 1\n",
    "        else:\n",
    "            corrupt = True\n",
    "            break\n",
    "    return corrupt, flip_brakets(lefts[: depth + 1])\n",
    "\n",
    "\n",
    "def score_auto_comp(rights):\n",
    "    score = 0\n",
    "    for b in rights:\n",
    "        score = score * 5\n",
    "        score += auto_comp_scores[b]\n",
    "    return score"
   ]
  },
  {
   "cell_type": "code",
   "execution_count": null,
   "id": "022c1a95",
   "metadata": {},
   "outputs": [],
   "source": [
    "# pt2 e.g.\n",
    "file = \"eg.txt\"\n",
    "rights = []\n",
    "scores = []\n",
    "with open(file) as f:\n",
    "    for x in f:\n",
    "        corrupt, rights = complete_rows(x.strip())\n",
    "        if not corrupt:\n",
    "            scores.append(score_auto_comp(rights))\n",
    "scores.sort()\n",
    "l = len(scores) // 2\n",
    "\n",
    "print(scores[l])"
   ]
  },
  {
   "cell_type": "code",
   "execution_count": null,
   "id": "c829919d",
   "metadata": {},
   "outputs": [],
   "source": [
    "# pt2 input\n",
    "file = \"input.txt\"\n",
    "rights = []\n",
    "scores = []\n",
    "with open(file) as f:\n",
    "    for x in f:\n",
    "        corrupt, rights = complete_rows(x.strip())\n",
    "        if not corrupt:\n",
    "            scores.append(score_auto_comp(rights))\n",
    "scores.sort()\n",
    "l = len(scores) // 2\n",
    "\n",
    "print(scores[l])"
   ]
  }
 ],
 "metadata": {
  "kernelspec": {
   "display_name": "Python 3 (ipykernel)",
   "language": "python",
   "name": "python3"
  },
  "language_info": {
   "codemirror_mode": {
    "name": "ipython",
    "version": 3
   },
   "file_extension": ".py",
   "mimetype": "text/x-python",
   "name": "python",
   "nbconvert_exporter": "python",
   "pygments_lexer": "ipython3",
   "version": "3.9.7"
  }
 },
 "nbformat": 4,
 "nbformat_minor": 5
}
