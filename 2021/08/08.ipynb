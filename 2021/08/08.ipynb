{
 "cells": [
  {
   "cell_type": "code",
   "execution_count": null,
   "id": "208cfecb",
   "metadata": {},
   "outputs": [],
   "source": [
    "import numpy as np"
   ]
  },
  {
   "cell_type": "code",
   "execution_count": null,
   "id": "3f4afdf0",
   "metadata": {},
   "outputs": [],
   "source": [
    "#eg1\n",
    "file = \"eg.txt\"\n",
    "signals = []\n",
    "outputs = []\n",
    "count =0\n",
    "with open(file) as f:\n",
    "    for idx, x in enumerate(f):\n",
    "        signals.append(x.strip().split('|')[0].split())\n",
    "        outputs.append(x.strip().split('|')[1].split())\n",
    "        for i in x.strip().split('|')[1].split():\n",
    "            if len(i) in [2,3,4,7]:\n",
    "                count+=1\n",
    "print(count)"
   ]
  },
  {
   "cell_type": "code",
   "execution_count": null,
   "id": "447e7540",
   "metadata": {},
   "outputs": [],
   "source": [
    "#pt1\n",
    "file = \"input.txt\"\n",
    "signals = []\n",
    "outputs = []\n",
    "count =0\n",
    "with open(file) as f:\n",
    "    for idx, x in enumerate(f):\n",
    "        signals.append(x.strip().split('|')[0].split())\n",
    "        outputs.append(x.strip().split('|')[1].split())\n",
    "        for i in x.strip().split('|')[1].split():\n",
    "            if len(i) in [2,3,4,7]:\n",
    "                count+=1\n",
    "print(count)"
   ]
  },
  {
   "cell_type": "code",
   "execution_count": null,
   "id": "2cd7c07f",
   "metadata": {},
   "outputs": [],
   "source": [
    "def diff(a,b):\n",
    "    difference = \"\"\n",
    "    for l in a:\n",
    "        if b.find(l) ==-1:\n",
    "            difference += l\n",
    "    for l in b:\n",
    "        if a.find(l) ==-1:\n",
    "            difference += l\n",
    "    return difference"
   ]
  },
  {
   "cell_type": "code",
   "execution_count": null,
   "id": "b77f42d5",
   "metadata": {},
   "outputs": [],
   "source": [
    "def map_signal(signal):\n",
    "    mapping = {}\n",
    "    for i in signal:\n",
    "        if len(i) == 2:\n",
    "            mapping[1] = \"\".join(sorted(i))\n",
    "        if len(i) == 3:\n",
    "            mapping[7] = \"\".join(sorted(i))\n",
    "        if len(i) == 4:\n",
    "            mapping[4] = \"\".join(sorted(i))\n",
    "        if len(i) == 7:\n",
    "            mapping[8] = \"\".join(sorted(i))\n",
    "    for i in signal:\n",
    "        if len(i) == 5:\n",
    "            if len(diff(i, mapping[1])) == 3 :\n",
    "                mapping[3] = \"\".join(sorted(i))\n",
    "            elif len(diff(i, mapping[4])) == 5:\n",
    "                mapping[2] = \"\".join(sorted(i))\n",
    "            elif len(diff(i, mapping[4])) == 3:\n",
    "                mapping[5] = \"\".join(sorted(i))\n",
    "        if len(i) == 6:\n",
    "            if len(diff(i, mapping[1])) == 6 :\n",
    "                mapping[6] = \"\".join(sorted(i))\n",
    "            elif len(diff(i, mapping[4])) ==2:\n",
    "                mapping[9] = \"\".join(sorted(i))\n",
    "            elif len(diff(i, mapping[4])) == 4:\n",
    "                mapping[0] = \"\".join(sorted(i))\n",
    "    return mapping"
   ]
  },
  {
   "cell_type": "code",
   "execution_count": null,
   "id": "8757be78",
   "metadata": {},
   "outputs": [],
   "source": [
    "def decode_output(output, mapping):\n",
    "    answer = []\n",
    "    for i in output:\n",
    "        n = \"\".join(sorted(i))\n",
    "        answer.append(next(key for key, value in mapping.items() if value == n))\n",
    "    return(answer)"
   ]
  },
  {
   "cell_type": "code",
   "execution_count": null,
   "id": "63cfe1fd",
   "metadata": {
    "scrolled": true
   },
   "outputs": [],
   "source": [
    "#eg2\n",
    "file = \"eg.txt\"\n",
    "signals = []\n",
    "outputs = []\n",
    "final = []\n",
    "final_sum =0\n",
    "\n",
    "with open(file) as f:\n",
    "    for idx, x in enumerate(f):\n",
    "        signals.append(x.strip().split('|')[0].split())\n",
    "        outputs.append(x.strip().split('|')[1].split())\n",
    "        map = map_signal(signals[idx])\n",
    "        final.append(decode_output(outputs[idx], map))\n",
    "        final_sum += int(''.join(str(i) for i in final[idx]))\n",
    "        print(final_sum)"
   ]
  },
  {
   "cell_type": "code",
   "execution_count": null,
   "id": "19768d33",
   "metadata": {},
   "outputs": [],
   "source": [
    "#eg2\n",
    "file = \"input.txt\"\n",
    "signals = []\n",
    "outputs = []\n",
    "final = []\n",
    "final_sum =0\n",
    "\n",
    "with open(file) as f:\n",
    "    for idx, x in enumerate(f):\n",
    "        signals.append(x.strip().split('|')[0].split())\n",
    "        outputs.append(x.strip().split('|')[1].split())\n",
    "        map = map_signal(signals[idx])\n",
    "        final.append(decode_output(outputs[idx], map))\n",
    "        final_sum += int(''.join(str(i) for i in final[idx]))\n",
    "print(final_sum)"
   ]
  }
 ],
 "metadata": {
  "kernelspec": {
   "display_name": "Python 3 (ipykernel)",
   "language": "python",
   "name": "python3"
  },
  "language_info": {
   "codemirror_mode": {
    "name": "ipython",
    "version": 3
   },
   "file_extension": ".py",
   "mimetype": "text/x-python",
   "name": "python",
   "nbconvert_exporter": "python",
   "pygments_lexer": "ipython3",
   "version": "3.9.7"
  }
 },
 "nbformat": 4,
 "nbformat_minor": 5
}
