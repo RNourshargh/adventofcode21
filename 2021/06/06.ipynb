{
 "cells": [
  {
   "cell_type": "code",
   "execution_count": null,
   "metadata": {},
   "outputs": [],
   "source": [
    "import numpy as np"
   ]
  },
  {
   "cell_type": "code",
   "execution_count": null,
   "metadata": {},
   "outputs": [],
   "source": [
    "#e.g.\n",
    "fish = [3,4,3,1,2]\n",
    "days = 80\n",
    "for day in range(days):\n",
    "    for idx, f in enumerate(fish):\n",
    "        if fish[idx] ==0:\n",
    "            fish[idx] = 7\n",
    "            fish.append(9)\n",
    "        fish[idx]-=1\n",
    "    #print(fish)\n",
    "print(f\"After {days} days there are {len(fish)} fish\")"
   ]
  },
  {
   "cell_type": "code",
   "execution_count": null,
   "metadata": {},
   "outputs": [],
   "source": [
    "# pt1\n",
    "fish = [5,1,1,5,4,2,1,2,1,2,2,1,1,1,4,2,2,4,1,1,1,1,1,4,1,1,1,1,1,5,3,1,4,1,1,1,1,1,4,1,5,1,1,1,4,1,2,2,3,1,5,1,1,5,1,1,5,4,1,1,1,4,3,1,1,1,3,1,5,5,1,1,1,1,5,3,2,1,2,3,1,5,1,1,4,1,1,2,1,5,1,1,1,1,5,4,5,1,3,1,3,3,5,5,1,3,1,5,3,1,1,4,2,3,3,1,2,4,1,1,1,1,1,1,1,2,1,1,4,1,3,2,5,2,1,1,1,4,2,1,1,1,4,2,4,1,1,1,1,4,1,3,5,5,1,2,1,3,1,1,4,1,1,1,1,2,1,1,4,2,3,1,1,1,1,1,1,1,4,5,1,1,3,1,1,2,1,1,1,5,1,1,1,1,1,3,2,1,2,4,5,1,5,4,1,1,3,1,1,5,5,1,3,1,1,1,1,4,4,2,1,2,1,1,5,1,1,4,5,1,1,1,1,1,1,1,1,1,1,3,1,1,1,1,1,4,2,1,1,1,2,5,1,4,1,1,1,4,1,1,5,4,4,3,1,1,4,5,1,1,3,5,3,1,2,5,3,4,1,3,5,4,1,3,1,5,1,4,1,1,4,2,1,1,1,3,2,1,1,4]\n",
    "print(fish)\n",
    "days = 80\n",
    "for day in range(days):\n",
    "    for idx, f in enumerate(fish):\n",
    "        if fish[idx] ==0:\n",
    "            fish[idx] = 7\n",
    "            fish.append(9)\n",
    "        fish[idx]-=1\n",
    "    #print(fish)\n",
    "print(f\"After {days} days there are {len(fish)} fish\")"
   ]
  },
  {
   "cell_type": "code",
   "execution_count": null,
   "metadata": {},
   "outputs": [],
   "source": [
    "# I think this is going to take a very long time to finish\n",
    "# instead count the number with a given value and then iterate over that list of only 8 elements\n",
    "days = 80\n",
    "fish = np.zeros((9), dtype = int)\n",
    "\n",
    "fish_list = [3,4,3,1,2]\n",
    "for n in range(9):\n",
    "    fish[n] = fish_list.count(n)\n",
    "\n",
    "for day in range(days):\n",
    "    fish = np.hstack([fish[1:], fish[0]])\n",
    "    fish[6]+= fish[-1]\n",
    "print(fish.sum())"
   ]
  },
  {
   "cell_type": "code",
   "execution_count": null,
   "metadata": {},
   "outputs": [],
   "source": [
    "# I think this is going to take a very long time to finish\n",
    "# instead count the number with a given value and then iterate over that list of only 8 elements\n",
    "days = 256\n",
    "fish = np.zeros((9), dtype = np.int64)\n",
    "\n",
    "fish_list = [5,1,1,5,4,2,1,2,1,2,2,1,1,1,4,2,2,4,1,1,1,1,1,4,1,1,1,1,1,5,3,1,4,1,1,1,1,1,4,1,5,1,1,1,4,1,2,2,3,1,5,1,1,5,1,1,5,4,1,1,1,4,3,1,1,1,3,1,5,5,1,1,1,1,5,3,2,1,2,3,1,5,1,1,4,1,1,2,1,5,1,1,1,1,5,4,5,1,3,1,3,3,5,5,1,3,1,5,3,1,1,4,2,3,3,1,2,4,1,1,1,1,1,1,1,2,1,1,4,1,3,2,5,2,1,1,1,4,2,1,1,1,4,2,4,1,1,1,1,4,1,3,5,5,1,2,1,3,1,1,4,1,1,1,1,2,1,1,4,2,3,1,1,1,1,1,1,1,4,5,1,1,3,1,1,2,1,1,1,5,1,1,1,1,1,3,2,1,2,4,5,1,5,4,1,1,3,1,1,5,5,1,3,1,1,1,1,4,4,2,1,2,1,1,5,1,1,4,5,1,1,1,1,1,1,1,1,1,1,3,1,1,1,1,1,4,2,1,1,1,2,5,1,4,1,1,1,4,1,1,5,4,4,3,1,1,4,5,1,1,3,5,3,1,2,5,3,4,1,3,5,4,1,3,1,5,1,4,1,1,4,2,1,1,1,3,2,1,1,4]\n",
    "for n in range(9):\n",
    "    fish[n] = fish_list.count(n)\n",
    "\n",
    "for day in range(days):\n",
    "    fish = np.hstack([fish[1:], fish[0]])\n",
    "    fish[6]+= fish[-1]\n",
    "print(fish.sum())"
   ]
  }
 ],
 "metadata": {
  "kernelspec": {
   "display_name": "Python 3 (ipykernel)",
   "language": "python",
   "name": "python3"
  },
  "language_info": {
   "codemirror_mode": {
    "name": "ipython",
    "version": 3
   },
   "file_extension": ".py",
   "mimetype": "text/x-python",
   "name": "python",
   "nbconvert_exporter": "python",
   "pygments_lexer": "ipython3",
   "version": "3.9.7"
  }
 },
 "nbformat": 4,
 "nbformat_minor": 2
}
