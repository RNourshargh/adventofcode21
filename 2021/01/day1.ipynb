{
 "cells": [
  {
   "cell_type": "code",
   "execution_count": null,
   "id": "dfcebc24",
   "metadata": {},
   "outputs": [],
   "source": [
    "import numpy as np"
   ]
  },
  {
   "cell_type": "code",
   "execution_count": null,
   "id": "6537bf81",
   "metadata": {},
   "outputs": [],
   "source": [
    "def height_comparison(file, diff):\n",
    "    data = np.genfromtxt(file)\n",
    "    depth_increase = np.empty_like(data)\n",
    "    for idx, x in enumerate(data):\n",
    "        depth_change = data[idx] - data[idx-diff]\n",
    "        depth_increase[idx] = bool(depth_change>0)\n",
    "    for i in range(diff):\n",
    "        depth_increase[i] = 0\n",
    "        \n",
    "    return depth_increase.sum()\n",
    "\n",
    "sum_increases_1 = height_comparison('input1.csv', 1)\n",
    "\n",
    "sum_increases_2 = height_comparison('input1.csv',3)"
   ]
  },
  {
   "cell_type": "code",
   "execution_count": null,
   "id": "e48d10ab",
   "metadata": {},
   "outputs": [],
   "source": [
    "data = np.genfromtxt('input1.csv',)\n",
    "depth_increase = np.empty_like(data)\n",
    "for idx, x in enumerate(data):\n",
    "    depth_change = data[idx]- data[idx-1]\n",
    "    depth_increase[idx] = bool(depth_change>0)\n",
    "depth_increase[0] = 0\n",
    "print(depth_increase.sum())"
   ]
  },
  {
   "cell_type": "code",
   "execution_count": null,
   "id": "6dac765a",
   "metadata": {
    "scrolled": true
   },
   "outputs": [],
   "source": [
    "eg1 = np.genfromtxt('input1.csv',)\n",
    "depth_increase_2 = np.empty_like(eg1)\n",
    "for idx, x in enumerate(eg1):\n",
    "    depth_change_2 = eg1[idx]- eg1[idx-3]\n",
    "    depth_increase_2[idx] = bool(depth_change_2>0)\n",
    "depth_increase_2[0] = 0\n",
    "depth_increase_2[1] = 0\n",
    "depth_increase_2[2] = 0\n",
    "print(depth_increase_2.sum())"
   ]
  }
 ],
 "metadata": {
  "kernelspec": {
   "display_name": "Python 3 (ipykernel)",
   "language": "python",
   "name": "python3"
  },
  "language_info": {
   "codemirror_mode": {
    "name": "ipython",
    "version": 3
   },
   "file_extension": ".py",
   "mimetype": "text/x-python",
   "name": "python",
   "nbconvert_exporter": "python",
   "pygments_lexer": "ipython3",
   "version": "3.9.7"
  }
 },
 "nbformat": 4,
 "nbformat_minor": 5
}
