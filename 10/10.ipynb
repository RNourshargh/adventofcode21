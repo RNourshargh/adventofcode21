{
 "cells": [
  {
   "cell_type": "code",
   "execution_count": null,
   "id": "27d049da",
   "metadata": {},
   "outputs": [],
   "source": [
    "brakets = {\n",
    "    \"[\" : \"]\",\n",
    "    \"(\" : \")\",\n",
    "    \"{\" : \"}\",\n",
    "    \"<\" : \">\"\n",
    "}\n",
    "\n",
    "scores = {\n",
    "    \")\" : 3,\n",
    "    \"]\" : 57,\n",
    "    \"}\" : 1197,\n",
    "    \">\" : 25137,   \n",
    "}"
   ]
  },
  {
   "cell_type": "code",
   "execution_count": null,
   "id": "cfaefcef",
   "metadata": {},
   "outputs": [],
   "source": [
    "def read_row(row):\n",
    "    lefts = []\n",
    "    corrupt_char = []\n",
    "    depth = -1\n",
    "    corrupt = False\n",
    "    for b in row:\n",
    "        if b in brakets.keys():\n",
    "            lefts.append(b)\n",
    "            depth +=1\n",
    "            lefts[depth] = b\n",
    "        elif b == brakets[lefts[depth]]:\n",
    "            depth-=1\n",
    "        else:\n",
    "            corrupt_char=b\n",
    "            corrupt = True\n",
    "            break\n",
    "    return corrupt, corrupt_char"
   ]
  },
  {
   "cell_type": "code",
   "execution_count": null,
   "id": "b1c3b1dd",
   "metadata": {},
   "outputs": [],
   "source": [
    "def score_corrupts(corrupts):\n",
    "    score =0\n",
    "    for b in corrupts:\n",
    "        score += scores[b]\n",
    "    return score"
   ]
  },
  {
   "cell_type": "code",
   "execution_count": null,
   "id": "08296626",
   "metadata": {},
   "outputs": [],
   "source": [
    "file = \"eg.txt\"\n",
    "corrupts = []\n",
    "with open(file) as f:\n",
    "    for x in f:\n",
    "        error, corrupt_char = read_row(x.strip())\n",
    "        if error:\n",
    "            corrupts.append(corrupt_char)\n",
    "score_corrupts(corrupts)"
   ]
  },
  {
   "cell_type": "code",
   "execution_count": null,
   "id": "6163b46e",
   "metadata": {},
   "outputs": [],
   "source": [
    "file = \"input.txt\"\n",
    "corrupts = []\n",
    "with open(file) as f:\n",
    "    for x in f:\n",
    "        error, corrupt_char = read_row(x.strip())\n",
    "        if error:\n",
    "            corrupts.append(corrupt_char)\n",
    "score_corrupts(corrupts)"
   ]
  }
 ],
 "metadata": {
  "kernelspec": {
   "display_name": "Python 3 (ipykernel)",
   "language": "python",
   "name": "python3"
  },
  "language_info": {
   "codemirror_mode": {
    "name": "ipython",
    "version": 3
   },
   "file_extension": ".py",
   "mimetype": "text/x-python",
   "name": "python",
   "nbconvert_exporter": "python",
   "pygments_lexer": "ipython3",
   "version": "3.9.7"
  }
 },
 "nbformat": 4,
 "nbformat_minor": 5
}
