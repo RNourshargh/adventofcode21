{
 "cells": [
  {
   "cell_type": "code",
   "execution_count": 6,
   "id": "ca4ca073",
   "metadata": {},
   "outputs": [],
   "source": [
    "import numpy as np"
   ]
  },
  {
   "cell_type": "code",
   "execution_count": 126,
   "id": "e02a3bb5",
   "metadata": {},
   "outputs": [
    {
     "name": "stdout",
     "output_type": "stream",
     "text": [
      "vertical\n",
      "[]\n",
      "vertical\n",
      "[0 1 2 3 4]\n"
     ]
    }
   ],
   "source": [
    "file = \"eg.txt\"\n",
    "coordinates = np.zeros(4)\n",
    "starts, ends = [], []\n",
    "with open(file, \"r\") as ifile:\n",
    "# with open(\"test.txt\", \"r\") as ifile:\n",
    "    for line in ifile:\n",
    "        pairs = line.strip().split('->')\n",
    "        start, end = ( (int(m) for m in k.split(',')) for k in pairs)\n",
    "        starts.append(tuple(start))\n",
    "        ends.append(tuple(end))\n",
    "\n",
    "line_points = []\n",
    "        \n",
    "for i in range(len(starts)):\n",
    "    start_x = starts[i][0]\n",
    "    start_y = starts[i][1]\n",
    "    end_x = ends[i][0]\n",
    "    end_y = ends[i][1]\n",
    "    if start_x == end_x:\n",
    "        print(\"vertical\")\n",
    "        a = np.arange(start_y, end_y+1)\n",
    "        print(a)"
   ]
  },
  {
   "cell_type": "code",
   "execution_count": null,
   "id": "6ab6e7f7",
   "metadata": {},
   "outputs": [],
   "source": []
  }
 ],
 "metadata": {
  "kernelspec": {
   "display_name": "Python 3 (ipykernel)",
   "language": "python",
   "name": "python3"
  },
  "language_info": {
   "codemirror_mode": {
    "name": "ipython",
    "version": 3
   },
   "file_extension": ".py",
   "mimetype": "text/x-python",
   "name": "python",
   "nbconvert_exporter": "python",
   "pygments_lexer": "ipython3",
   "version": "3.9.7"
  }
 },
 "nbformat": 4,
 "nbformat_minor": 5
}
