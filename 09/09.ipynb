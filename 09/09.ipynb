{
 "cells": [
  {
   "cell_type": "code",
   "execution_count": null,
   "id": "50148f93",
   "metadata": {},
   "outputs": [],
   "source": [
    "import numpy as np"
   ]
  },
  {
   "cell_type": "code",
   "execution_count": null,
   "id": "37f0400e",
   "metadata": {},
   "outputs": [],
   "source": [
    "def check_min(h,x,y):\n",
    "    if h[x,y]< h[x,y+1] and h[x,y]< h[x,y-1] and h[x,y]< h[x+1,y] and h[x,y]< h[x-1,y]:\n",
    "        return h[x,y]+1\n",
    "    else:\n",
    "        return int(0)\n",
    "    \n",
    "def is_min(h,x,y):\n",
    "    if h[x,y]< h[x,y+1] and h[x,y]< h[x,y-1] and h[x,y]< h[x+1,y] and h[x,y]< h[x-1,y]:\n",
    "        return True\n",
    "    else:\n",
    "        return False\n",
    "\n",
    "def check_min_new(h,x,y):\n",
    "    if h[x,y]< h[x,y+1] and h[x,y]< h[x,y-1] and h[x,y]< h[x+1,y] and h[x,y]< h[x-1,y]:\n",
    "        return h[x,y]+1,x,y\n",
    "    else:\n",
    "        return int(0) , NAN, NAN"
   ]
  },
  {
   "cell_type": "code",
   "execution_count": null,
   "id": "9a72db82",
   "metadata": {},
   "outputs": [],
   "source": [
    "# find 9's\n",
    "def count_islands(heights):\n",
    "    basin_area = 0\n",
    "    for x in np.nditer(heights):\n",
    "        if x<9:\n",
    "            basin_area +=1\n",
    "    return basin_area"
   ]
  },
  {
   "cell_type": "code",
   "execution_count": null,
   "id": "535ee021",
   "metadata": {},
   "outputs": [],
   "source": [
    "def get_adjacent_points(x,y):\n",
    "    adj_points = []\n",
    "    adj_points.append((x+1,y),(x-1,y),(x,y+1),(x,y-1))\n",
    "    return adj_points"
   ]
  },
  {
   "cell_type": "code",
   "execution_count": null,
   "id": "0edc7895",
   "metadata": {},
   "outputs": [],
   "source": [
    "def get_adjacent_basin(height,x,y):\n",
    "    basin_points = []\n",
    "    adj_points = []\n",
    "    adj_points.append((x+1,y))\n",
    "    adj_points.append((x-1,y))\n",
    "    adj_points.append((x,y+1))\n",
    "    adj_points.append((x,y-1))\n",
    "    for pt in adj_points:\n",
    "        if height[pt] <9:\n",
    "            basin_points.append(pt)\n",
    "    return basin_points"
   ]
  },
  {
   "cell_type": "code",
   "execution_count": null,
   "id": "fe088df7",
   "metadata": {},
   "outputs": [],
   "source": [
    "def get_basin_points(height, point, basin_points=[]):\n",
    "    basin_points = basin_points.copy()\n",
    "    basin_points.append(point)\n",
    "    x,y = point\n",
    "    adj_basin_points = get_adjacent_basin(height,x,y)\n",
    "    for adj_bp in adj_basin_points:\n",
    "        if adj_bp not in basin_points:\n",
    "            basin_points = get_basin_points(height, adj_bp, basin_points)\n",
    "    return basin_points"
   ]
  },
  {
   "cell_type": "code",
   "execution_count": null,
   "id": "d1dbeca3",
   "metadata": {},
   "outputs": [],
   "source": [
    "file = \"eg.txt\"\n",
    "with open(file) as f:\n",
    "    l = f.readline().strip()\n",
    "    cols = len(l)\n",
    "    rows = 1000\n",
    "h = np.ndarray((rows+2,cols+2),dtype=int)\n",
    "h.fill(9)\n",
    "with open(file) as f:\n",
    "    for row, x in enumerate(f):\n",
    "        for col, l in enumerate(x.strip()):\n",
    "            h[row+1,col+1]= int(l)\n",
    "count_islands(h)"
   ]
  },
  {
   "cell_type": "code",
   "execution_count": null,
   "id": "6afc9e14",
   "metadata": {},
   "outputs": [],
   "source": [
    "file = \"eg.txt\"\n",
    "with open(file) as f:\n",
    "    l = f.readline().strip()\n",
    "    cols = len(l)\n",
    "    rows = 1000\n",
    "h = np.ndarray((rows+2,cols+2),dtype=int)\n",
    "h.fill(9)\n",
    "with open(file) as f:\n",
    "    for row, x in enumerate(f):\n",
    "        for col, l in enumerate(x.strip()):\n",
    "            h[row+1,col+1]= int(l)\n",
    "risk = 0\n",
    "min_pts = []\n",
    "basin_pts = []\n",
    "for col in range(cols):\n",
    "    for row in range(rows):\n",
    "        if is_min(h,row+1,col+1):\n",
    "            height,x,y = check_min_new(h,row+1,col+1)\n",
    "            risk += height\n",
    "            min_pts.append((x,y))\n",
    "            basin_pts.append(get_basin_points(h, (x,y)))\n",
    "basin_size = []\n",
    "for basin in basin_pts:\n",
    "    basin_size.append(len(basin))\n",
    "print(\"risk:\",risk)\n",
    "basin_size.sort(reverse=True)\n",
    "score = 1\n",
    "for b in basin_size[:3]:\n",
    "    score = score *b\n",
    "print(score)\n"
   ]
  },
  {
   "cell_type": "code",
   "execution_count": null,
   "id": "1e0d31e6",
   "metadata": {},
   "outputs": [],
   "source": [
    "file = \"input.txt\"\n",
    "with open(file) as f:\n",
    "    l = f.readline().strip()\n",
    "    cols = len(l)\n",
    "    rows = 1000\n",
    "h = np.ndarray((rows+2,cols+2),dtype=int)\n",
    "h.fill(9)\n",
    "with open(file) as f:\n",
    "    for row, x in enumerate(f):\n",
    "        for col, l in enumerate(x.strip()):\n",
    "            h[row+1,col+1]= int(l)\n",
    "risk = 0\n",
    "min_pts = []\n",
    "basin_pts = []\n",
    "for col in range(cols):\n",
    "    for row in range(rows):\n",
    "        if is_min(h,row+1,col+1):\n",
    "            height,x,y = check_min_new(h,row+1,col+1)\n",
    "            risk += height\n",
    "            min_pts.append((x,y))\n",
    "            basin_pts.append(get_basin_points(h, (x,y)))\n",
    "basin_size = []\n",
    "for basin in basin_pts:\n",
    "    basin_size.append(len(basin))\n",
    "print(\"risk:\",risk)\n",
    "basin_size.sort(reverse=True)\n",
    "score = 1\n",
    "for b in basin_size[:3]:\n",
    "    score = score *b\n",
    "print(score)"
   ]
  }
 ],
 "metadata": {
  "kernelspec": {
   "display_name": "Python 3 (ipykernel)",
   "language": "python",
   "name": "python3"
  },
  "language_info": {
   "codemirror_mode": {
    "name": "ipython",
    "version": 3
   },
   "file_extension": ".py",
   "mimetype": "text/x-python",
   "name": "python",
   "nbconvert_exporter": "python",
   "pygments_lexer": "ipython3",
   "version": "3.9.7"
  }
 },
 "nbformat": 4,
 "nbformat_minor": 5
}
