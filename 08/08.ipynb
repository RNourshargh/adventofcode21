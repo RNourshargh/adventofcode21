{
 "cells": [
  {
   "cell_type": "code",
   "execution_count": 7,
   "id": "208cfecb",
   "metadata": {},
   "outputs": [],
   "source": [
    "import numpy as np"
   ]
  },
  {
   "cell_type": "code",
   "execution_count": 25,
   "id": "3f4afdf0",
   "metadata": {},
   "outputs": [
    {
     "name": "stdout",
     "output_type": "stream",
     "text": [
      "26\n"
     ]
    }
   ],
   "source": [
    "#eg1\n",
    "file = \"eg.txt\"\n",
    "signals = []\n",
    "outputs = []\n",
    "count =0\n",
    "with open(file) as f:\n",
    "    for idx, x in enumerate(f):\n",
    "        signals.append(x.strip().split('|')[0].split())\n",
    "        outputs.append(x.strip().split('|')[1].split())\n",
    "        for i in x.strip().split('|')[1].split():\n",
    "            if len(i) in [2,3,4,7]:\n",
    "                count+=1\n",
    "print(count)"
   ]
  },
  {
   "cell_type": "code",
   "execution_count": 26,
   "id": "447e7540",
   "metadata": {},
   "outputs": [
    {
     "name": "stdout",
     "output_type": "stream",
     "text": [
      "495\n"
     ]
    }
   ],
   "source": [
    "#pt1\n",
    "file = \"input.txt\"\n",
    "signals = []\n",
    "outputs = []\n",
    "count =0\n",
    "with open(file) as f:\n",
    "    for idx, x in enumerate(f):\n",
    "        signals.append(x.strip().split('|')[0].split())\n",
    "        outputs.append(x.strip().split('|')[1].split())\n",
    "        for i in x.strip().split('|')[1].split():\n",
    "            if len(i) in [2,3,4,7]:\n",
    "                count+=1\n",
    "print(count)"
   ]
  },
  {
   "cell_type": "code",
   "execution_count": 71,
   "id": "63cfe1fd",
   "metadata": {},
   "outputs": [
    {
     "name": "stdout",
     "output_type": "stream",
     "text": [
      "[8, 6, 8, 6, 4, 9, 7]\n",
      "['be', 'cfbegad', 'cbdgef', 'fgaecd', 'cgeb', 'fdcge', 'agebfd', 'fecdb', 'fabcd', 'edb']\n"
     ]
    }
   ],
   "source": [
    "#eg2\n",
    "file = \"eg.txt\"\n",
    "signals = []\n",
    "outputs = []\n",
    "letter_Freq = [0]*7\n",
    "count =0\n",
    "rows =0\n",
    "\n",
    "codec ={0: \"abcefg\", 1: \"cf\", 2: \"acdeg\", 3: \"acdfg\", 4: \"bcdf\", 5:\"abdfg\", 6: \"abdefg\", 7: \"acf\", 8:\"abcdefg\", 9: \"abcfg\" }\n",
    "letters = \"abcdefg\"\n",
    "for num in codec:\n",
    "    for idx, l in enumerate(letters):\n",
    "        letter_Freq[idx]+=codec[num].count(l)\n",
    "print(letter_Freq)\n",
    "    \n",
    "letter_counts = {4: \"e\", 9: \"f\", 7: \"g\" }\n",
    "# can find numbers #1478 from the letter numbers alone\n",
    "# can find #2 from 5 letters and not f, (this also tells us b)\n",
    "# can find #3 and #5 because 5 letters and known b\n",
    "# can find #9 from 6 letters and not e\n",
    "# can use numbers #5 and #9 to find c, use this to get #6 and #0\n",
    "\n",
    "\n",
    "\n",
    "with open(file) as f:\n",
    "    for idx, x in enumerate(f):\n",
    "        signals.append(x.strip().split('|')[0].split())\n",
    "        outputs.append(x.strip().split('|')[1].split())\n",
    "print(signals[0])\n",
    "for i in signals[0]:\n",
    "    for idx, l in enumerate(letters):\n",
    "        letter_Freq[idx]+=i.count(l)"
   ]
  }
 ],
 "metadata": {
  "kernelspec": {
   "display_name": "Python 3 (ipykernel)",
   "language": "python",
   "name": "python3"
  },
  "language_info": {
   "codemirror_mode": {
    "name": "ipython",
    "version": 3
   },
   "file_extension": ".py",
   "mimetype": "text/x-python",
   "name": "python",
   "nbconvert_exporter": "python",
   "pygments_lexer": "ipython3",
   "version": "3.9.7"
  }
 },
 "nbformat": 4,
 "nbformat_minor": 5
}
