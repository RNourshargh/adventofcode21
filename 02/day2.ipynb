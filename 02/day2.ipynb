{
 "cells": [
  {
   "cell_type": "code",
   "execution_count": 4,
   "id": "cc751ba1",
   "metadata": {},
   "outputs": [],
   "source": [
    "import numpy as np\n",
    "import pandas as pd"
   ]
  },
  {
   "cell_type": "code",
   "execution_count": null,
   "id": "f872f515",
   "metadata": {},
   "outputs": [],
   "source": []
  },
  {
   "cell_type": "code",
   "execution_count": 41,
   "id": "7e7ec7e9",
   "metadata": {},
   "outputs": [
    {
     "name": "stdout",
     "output_type": "stream",
     "text": [
      "  direction  magnitude\n",
      "0   forward          8\n",
      "1   forward          9\n",
      "2   forward          9\n",
      "3      down          3\n",
      "4   forward          9\n",
      "5      down          1\n",
      "6      down          7\n",
      "7      down          7\n",
      "8      down          4\n",
      "9      down          2\n",
      "[1746616]\n"
     ]
    }
   ],
   "source": [
    "df = pd.read_csv(\"input.csv\", delimiter = \" \")\n",
    "\n",
    "print(df[0:10])\n",
    "forward = df['magnitude'][df['direction']=='forward'].sum()\n",
    "depth = df['magnitude'][df['direction']=='down'].sum() - df['magnitude'][df['direction']=='up'].sum()\n",
    "product = forward*depth\n",
    "print([product])"
   ]
  },
  {
   "cell_type": "code",
   "execution_count": 42,
   "id": "bbe53622",
   "metadata": {},
   "outputs": [
    {
     "name": "stdout",
     "output_type": "stream",
     "text": [
      "  direction  magnitude\n",
      "0   forward          8\n",
      "1   forward          9\n",
      "2   forward          9\n",
      "3      down          3\n",
      "4   forward          9\n",
      "5      down          1\n",
      "6      down          7\n",
      "7      down          7\n",
      "8      down          4\n",
      "9      down          2\n"
     ]
    }
   ],
   "source": [
    "print(df[0:10])"
   ]
  }
 ],
 "metadata": {
  "kernelspec": {
   "display_name": "Python 3 (ipykernel)",
   "language": "python",
   "name": "python3"
  },
  "language_info": {
   "codemirror_mode": {
    "name": "ipython",
    "version": 3
   },
   "file_extension": ".py",
   "mimetype": "text/x-python",
   "name": "python",
   "nbconvert_exporter": "python",
   "pygments_lexer": "ipython3",
   "version": "3.9.7"
  }
 },
 "nbformat": 4,
 "nbformat_minor": 5
}
